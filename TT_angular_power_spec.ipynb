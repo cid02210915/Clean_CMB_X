{
 "cells": [
  {
   "cell_type": "markdown",
   "id": "77cf0d9f",
   "metadata": {},
   "source": [
    "### Step 1 — Start from consistent-resolution CMB maps\n",
    "\n",
    "- **Space:** real/pixel space on the sphere (HEALPix maps \\(T(\\hat{n})\\))\n",
    "- **Input:** SILC temperature maps for \\(N = 1, 2, 3, 4, 5\\) (each already homogenized to an effective \\(5'\\) Gaussian beam during preprocessing), and the SMICA map.\n",
    "- **Output:** same maps, ready for masking (still real space, HEALPix)\n"
   ]
  },
  {
   "cell_type": "code",
   "execution_count": 18,
   "id": "7411659b",
   "metadata": {},
   "outputs": [],
   "source": [
    "import numpy as np\n",
    "import healpy as hp\n",
    "import s2fft\n",
    "\n",
    "def mw_alm_2_hp_alm(MW_alm, lmax):\n",
    "    '''MW_alm: 2D array of shape (Lmax, 2*Lmax-1) (MW sampling, McEwen & Wiaux)\n",
    "    '''\n",
    "    # Initialize the 1D hp_alm array with the appropriate size\n",
    "    hp_alm = np.zeros(hp.Alm.getsize(lmax), dtype=np.complex128)\n",
    "        \n",
    "    for l in range(lmax + 1):\n",
    "        for m in range(-l, l + 1):\n",
    "            index = hp.Alm.getidx(lmax, l, abs(m))\n",
    "            if m < 0:\n",
    "                hp_alm[index] = (-1)**m * np.conj(MW_alm[l, lmax + m])\n",
    "            else:\n",
    "                hp_alm[index] = MW_alm[l, lmax + m]\n",
    "\n",
    "    return hp_alm\n",
    "\n",
    "\n",
    "def hp_alm_2_mw_alm(hp_alm, L_max):\n",
    "    \"\"\"\n",
    "    Converts spherical harmonics (alm) to a matrix representation for use in MW sampling.\n",
    "\n",
    "    This function takes 1D Healpix spherical harmonics coefficients (alm) and converts them into a matrix form \n",
    "    that is in (MW sampling, McEwen & Wiaux) sampling. The matrix form is complex-valued \n",
    "    and indexed by multipole moment and azimuthal index.\n",
    "\n",
    "    Parameters:\n",
    "        hp_alm (numpy.ndarray): The input healpix spherical harmonics coefficients (alm).\n",
    "        L_max (int): The maximum multipole moment to be represented in the output matrix.\n",
    "    \n",
    "    Note: # L_max = 4 | l = 0,1,2,3 , true lmax is L_max-1 = 3 | m = -3...0...(L_max-1 = 3)| number of m = 2(L_max-1)+1 = 2L_max-1\n",
    "\n",
    "    Returns:\n",
    "        MW_alm (numpy.ndarray): 2D array of shape (Lmax, 2*Lmax-1) MW spherical harmonics coefficients \n",
    "    \"\"\"\n",
    "\n",
    "    MW_alm = np.zeros((L_max, 2 * L_max - 1), dtype=np.complex128)\n",
    "\n",
    "    for l in range(L_max):\n",
    "        for m in range(-l, l + 1):\n",
    "            index = hp.Alm.getidx(L_max - 1, l, abs(m))\n",
    "            if m < 0:\n",
    "                MW_alm[l, L_max + m - 1] = (-1) ** m * np.conj(hp_alm[index])\n",
    "            else:\n",
    "                MW_alm[l, L_max + m - 1] = hp_alm[index]\n",
    "\n",
    "    return MW_alm"
   ]
  },
  {
   "cell_type": "code",
   "execution_count": 19,
   "id": "e417f60b",
   "metadata": {},
   "outputs": [
    {
     "name": "stderr",
     "output_type": "stream",
     "text": [
      "setting the output map dtype to [dtype('float64')]\n"
     ]
    },
    {
     "name": "stdout",
     "output_type": "stream",
     "text": [
      "Saved HEALPix map to CSNT_cILC_cmb_R0000.fits\n"
     ]
    }
   ],
   "source": [
    "import healpy as hp\n",
    "\n",
    "# after ILC_wav_coeff_maps_MP finishes for one realization:\n",
    "\n",
    "component = 'CSNT'\n",
    "component_name = 'cmb'\n",
    "realization = \"0000\"  # string\n",
    "\n",
    "# path to synthesized MW map\n",
    "mw_path = f\"ILC/synthesized_ILC_MW_maps/{component}_ILC_MW_Map_cilc_{component_name}_R{realization}_MP.npy\"\n",
    "\n",
    "# load MW pixel map\n",
    "MW_pix = np.load(mw_path)\n",
    "\n",
    "# if s2fft expects shape (1, ...), take first slice\n",
    "if MW_pix.ndim == 3:\n",
    "    MW_pix = MW_pix[0]\n",
    "\n",
    "L = MW_pix.shape[0]\n",
    "lmax = L - 1\n",
    "\n",
    "# MW pixel → MW alm\n",
    "MW_alm = s2fft.forward(MW_pix, L=L)\n",
    "\n",
    "# MW alm → HP alm (your existing function)\n",
    "hp_alm = mw_alm_2_hp_alm(MW_alm, lmax)\n",
    "\n",
    "# choose nside for given lmax\n",
    "nside = 2048\n",
    "\n",
    "# HP alm → HP map\n",
    "hp_map = hp.alm2map(hp_alm, nside=nside, lmax=lmax, verbose=False)\n",
    "\n",
    "# save to FITS\n",
    "hp.write_map(f\"{component}_cILC_{component_name}_R{realization}.fits\", hp_map, overwrite=True)\n",
    "\n",
    "print(f\"Saved HEALPix map to {component}_cILC_{component_name}_R{realization}.fits\")\n"
   ]
  },
  {
   "cell_type": "markdown",
   "id": "bbd13160",
   "metadata": {},
   "source": [
    "### Step 2 — Apply the point-source mask\n",
    "\n",
    "- **Space:** real/pixel space (multiply map by mask)  \n",
    "- **Input:** map from Step 1 + point-source mask  \n",
    "- **Output:** masked map $M(\\hat{n})\\,T(\\hat{n})$ (used because Fig. 13(a) shows **point-source** masked spectra)\n"
   ]
  },
  {
   "cell_type": "code",
   "execution_count": 20,
   "id": "7785cf75",
   "metadata": {},
   "outputs": [
    {
     "data": {
      "text/plain": [
       "'\\nimport requests\\n# URLs for Planck point-source masks\\nurls = {\\n    \"LFI\": \"http://pla.esac.esa.int/pla/aio/product-action?MAP.MAP_ID=LFI_Mask_PointSrc_2048_R2.00.fits\",\\n    \"HFI\": \"http://pla.esac.esa.int/pla/aio/product-action?MAP.MAP_ID=HFI_Mask_PointSrc_2048_R2.00.fits\"\\n}\\n\\n\\n# Download masks if not already present\\nfor name, url in urls.items():\\n    filename = f\"{name}_Mask_PointSrc_2048.fits\"\\n    try:\\n        with open(filename, \"wb\") as f:\\n            f.write(requests.get(url).content)\\n        print(f\"Downloaded {filename}\")\\n    except Exception as e:\\n        print(f\"Error downloading {name} mask: {e}\")\\n'"
      ]
     },
     "execution_count": 20,
     "metadata": {},
     "output_type": "execute_result"
    }
   ],
   "source": [
    "'''\n",
    "import requests\n",
    "# URLs for Planck point-source masks\n",
    "urls = {\n",
    "    \"LFI\": \"http://pla.esac.esa.int/pla/aio/product-action?MAP.MAP_ID=LFI_Mask_PointSrc_2048_R2.00.fits\",\n",
    "    \"HFI\": \"http://pla.esac.esa.int/pla/aio/product-action?MAP.MAP_ID=HFI_Mask_PointSrc_2048_R2.00.fits\"\n",
    "}\n",
    "\n",
    "\n",
    "# Download masks if not already present\n",
    "for name, url in urls.items():\n",
    "    filename = f\"{name}_Mask_PointSrc_2048.fits\"\n",
    "    try:\n",
    "        with open(filename, \"wb\") as f:\n",
    "            f.write(requests.get(url).content)\n",
    "        print(f\"Downloaded {filename}\")\n",
    "    except Exception as e:\n",
    "        print(f\"Error downloading {name} mask: {e}\")\n",
    "'''"
   ]
  },
  {
   "cell_type": "code",
   "execution_count": 21,
   "id": "8064c33d",
   "metadata": {},
   "outputs": [
    {
     "data": {
      "text/plain": [
       "'     \\n# Load your estimated CMB map (HEALPix)\\nmap_T = hp.read_map(\"CSNT_cILC_cmb_R0000.fits\", verbose=False)\\n\\n# Load LFI and HFI masks\\nmask_LFI = hp.read_map(\"LFI_Mask_PointSrc_2048.fits\")\\nmask_HFI = hp.read_map(\"HFI_Mask_PointSrc_2048.fits\")\\n\\nprint(\"map_T:\", map_T.size, \"nside=\", hp.get_nside(map_T))\\nprint(\"mask_LFI:\", mask_LFI.size, \"nside=\", hp.get_nside(mask_LFI))\\nprint(\"mask_HFI:\", mask_HFI.size, \"nside=\", hp.get_nside(mask_HFI))\\n\\n# Combine masks: intersection (product) keeps only pixels unmasked in both\\nmask_combined = mask_LFI * mask_HFI\\n\\n# Apply mask in pixel space\\nmasked_map = mask_combined * map_T\\n\\n# Save the masked map\\nhp.write_map(\"masked_map.fits\", masked_map, overwrite=True)\\n\\n\\n# visualize_MW_Pix_map(masked_map, title=\"Masked CMB Map\", coord=[\"G\"], unit=\"K\", is_MW_alm=False)\\n# Optional: visualise\\nhp.mollview(masked_map, title=\"CMB Map with Planck Point-Source Mask\")\\n'"
      ]
     },
     "execution_count": 21,
     "metadata": {},
     "output_type": "execute_result"
    }
   ],
   "source": [
    "'''     \n",
    "# Load your estimated CMB map (HEALPix)\n",
    "map_T = hp.read_map(\"CSNT_cILC_cmb_R0000.fits\", verbose=False)\n",
    "\n",
    "# Load LFI and HFI masks\n",
    "mask_LFI = hp.read_map(\"LFI_Mask_PointSrc_2048.fits\")\n",
    "mask_HFI = hp.read_map(\"HFI_Mask_PointSrc_2048.fits\")\n",
    "\n",
    "print(\"map_T:\", map_T.size, \"nside=\", hp.get_nside(map_T))\n",
    "print(\"mask_LFI:\", mask_LFI.size, \"nside=\", hp.get_nside(mask_LFI))\n",
    "print(\"mask_HFI:\", mask_HFI.size, \"nside=\", hp.get_nside(mask_HFI))\n",
    "\n",
    "# Combine masks: intersection (product) keeps only pixels unmasked in both\n",
    "mask_combined = mask_LFI * mask_HFI\n",
    "\n",
    "# Apply mask in pixel space\n",
    "masked_map = mask_combined * map_T\n",
    "\n",
    "# Save the masked map\n",
    "hp.write_map(\"masked_map.fits\", masked_map, overwrite=True)\n",
    "\n",
    "\n",
    "# visualize_MW_Pix_map(masked_map, title=\"Masked CMB Map\", coord=[\"G\"], unit=\"K\", is_MW_alm=False)\n",
    "# Optional: visualise\n",
    "hp.mollview(masked_map, title=\"CMB Map with Planck Point-Source Mask\")\n",
    "'''"
   ]
  },
  {
   "cell_type": "markdown",
   "id": "62b33679",
   "metadata": {},
   "source": [
    "**Step 3 — Go to harmonic space (pseudo-spectrum)**\n",
    "\n",
    "- **Space:** harmonic space (spherical harmonics)  \n",
    "- **Input:** masked map $M(\\hat{n})\\,T(\\hat{n})$ \n",
    "- **Operation:** spherical-harmonic transform $\\Rightarrow$ coefficients $\\tilde{a}_{\\ell m}$; compute pseudo-spectrum $\\tilde{C}_{\\ell}$  \n",
    "- **Output:** $\\tilde{C}_{\\ell}$ (pseudo-$C_{\\ell}$)  \n"
   ]
  },
  {
   "cell_type": "code",
   "execution_count": 22,
   "id": "ae8bd8d9",
   "metadata": {},
   "outputs": [
    {
     "data": {
      "text/plain": [
       "'\\nimport numpy as np\\nimport healpy as hp\\n\\nmap_T = hp.read_map(\"CSNT_cILC_cmb_R0000.fits\", verbose=False)\\nmasked_map = map_T \\n\\n# masked_map = W * T  (HEALPix 1D array)\\nnside = hp.get_nside(masked_map)\\nlmax  = 3*nside - 1\\n\\n# 1) Harmonic coefficients of the masked map:  a~_{lm}\\nalm_tilde = hp.map2alm(masked_map, lmax=lmax, iter=0)\\n\\n# 2) Build C~_ell via eq. (13): sum over m of |a~_{lm}|^2\\n#    Healpy stores m >= 0 only; for real maps use:\\n#    sum_{m=-l}^l |a_{lm}|^2 = |a_{l0}|^2 + 2 * sum_{m=1}^l |a_{lm}|^2\\nell_arr, m_arr = hp.Alm.getlm(lmax)                  # arrays of l and m for each alm index\\nabs2 = np.abs(alm_tilde)**2                          # |a~_{lm}|^2\\nweights = np.ones_like(abs2)\\nweights[m_arr > 0] = 2.0                             # double m>0 terms\\n\\nsum_by_ell = np.bincount(ell_arr, weights=weights*abs2, minlength=lmax+1)\\n\\nell = np.arange(lmax + 1)\\nCl_tilde = sum_by_ell / (2*ell + 1)                  # eq. (13) pseudo-spectrum\\n\\n# (optional) quick f_sky correction\\n# fsky = float(mask.mean()); Cl_est = Cl_tilde / fsky\\n'"
      ]
     },
     "execution_count": 22,
     "metadata": {},
     "output_type": "execute_result"
    }
   ],
   "source": [
    "'''\n",
    "import numpy as np\n",
    "import healpy as hp\n",
    "\n",
    "map_T = hp.read_map(\"CSNT_cILC_cmb_R0000.fits\", verbose=False)\n",
    "masked_map = map_T \n",
    "\n",
    "# masked_map = W * T  (HEALPix 1D array)\n",
    "nside = hp.get_nside(masked_map)\n",
    "lmax  = 3*nside - 1\n",
    "\n",
    "# 1) Harmonic coefficients of the masked map:  a~_{lm}\n",
    "alm_tilde = hp.map2alm(masked_map, lmax=lmax, iter=0)\n",
    "\n",
    "# 2) Build C~_ell via eq. (13): sum over m of |a~_{lm}|^2\n",
    "#    Healpy stores m >= 0 only; for real maps use:\n",
    "#    sum_{m=-l}^l |a_{lm}|^2 = |a_{l0}|^2 + 2 * sum_{m=1}^l |a_{lm}|^2\n",
    "ell_arr, m_arr = hp.Alm.getlm(lmax)                  # arrays of l and m for each alm index\n",
    "abs2 = np.abs(alm_tilde)**2                          # |a~_{lm}|^2\n",
    "weights = np.ones_like(abs2)\n",
    "weights[m_arr > 0] = 2.0                             # double m>0 terms\n",
    "\n",
    "sum_by_ell = np.bincount(ell_arr, weights=weights*abs2, minlength=lmax+1)\n",
    "\n",
    "ell = np.arange(lmax + 1)\n",
    "Cl_tilde = sum_by_ell / (2*ell + 1)                  # eq. (13) pseudo-spectrum\n",
    "\n",
    "# (optional) quick f_sky correction\n",
    "# fsky = float(mask.mean()); Cl_est = Cl_tilde / fsky\n",
    "'''"
   ]
  },
  {
   "cell_type": "code",
   "execution_count": 23,
   "id": "0da1f217",
   "metadata": {},
   "outputs": [],
   "source": [
    "import numpy as np\n",
    "import healpy as hp\n",
    "\n",
    "map_T = hp.read_map(\"CSNT_cILC_cmb_R0000.fits\", verbose=False)\n",
    "masked_map = map_T \n",
    "\n",
    "Cl = hp.anafast(map_T, lmax=lmax)  "
   ]
  },
  {
   "cell_type": "markdown",
   "id": "a58e0ff2",
   "metadata": {},
   "source": [
    "**Step 4 — First-order mask correction (small mask)**\n",
    "\n",
    "- **Space:** harmonic space (scalar sequence vs. $\\ell$)  \n",
    "- **Input:** $\\tilde C_\\ell$, sky fraction $f_{\\rm sky}$  \n",
    "- **Operation:** because the mask is small, divide by $f_{\\rm sky}$ (they use $f_{\\rm sky}=0.978$)  \n",
    "- **Output:** $\\hat C_\\ell \\approx \\tilde C_\\ell / f_{\\rm sky}$ (mask-corrected estimate)\n"
   ]
  },
  {
   "cell_type": "code",
   "execution_count": 24,
   "id": "15322049",
   "metadata": {},
   "outputs": [
    {
     "data": {
      "text/plain": [
       "'\\nimport numpy as np\\n\\n# Inputs you already have:\\n#   Cl_tilde      # pseudo-spectrum from Step 3\\n#   mask_combined # same NSIDE as the map (binary or apodized)\\n\\n# Pick f_sky\\n#is_binary = np.all((np.isclose(mask_combined, 0.0)) | (np.isclose(mask_combined, 1.0)))\\n#fsky = float(mask_combined.mean()) if is_binary else float(np.mean(mask_combined**2))\\n# If you want to force the paper\\'s value instead:\\nfsky = 0.978\\n\\n# First-order mask correction (small-mask approximation)\\nCl_hat = Cl_tilde / fsky  # ≈ full-sky estimate\\n\\n# (optional) save\\n# np.savez(\"step4_mask_corrected.npz\", Cl_hat=Cl_hat, fsky=fsky)\\nprint(f\"f_sky = {fsky:.6f}\")\\n'"
      ]
     },
     "execution_count": 24,
     "metadata": {},
     "output_type": "execute_result"
    }
   ],
   "source": [
    "'''\n",
    "import numpy as np\n",
    "\n",
    "# Inputs you already have:\n",
    "#   Cl_tilde      # pseudo-spectrum from Step 3\n",
    "#   mask_combined # same NSIDE as the map (binary or apodized)\n",
    "\n",
    "# Pick f_sky\n",
    "#is_binary = np.all((np.isclose(mask_combined, 0.0)) | (np.isclose(mask_combined, 1.0)))\n",
    "#fsky = float(mask_combined.mean()) if is_binary else float(np.mean(mask_combined**2))\n",
    "# If you want to force the paper's value instead:\n",
    "fsky = 0.978\n",
    "\n",
    "# First-order mask correction (small-mask approximation)\n",
    "Cl_hat = Cl_tilde / fsky  # ≈ full-sky estimate\n",
    "\n",
    "# (optional) save\n",
    "# np.savez(\"step4_mask_corrected.npz\", Cl_hat=Cl_hat, fsky=fsky)\n",
    "print(f\"f_sky = {fsky:.6f}\")\n",
    "'''"
   ]
  },
  {
   "cell_type": "markdown",
   "id": "263259bf",
   "metadata": {},
   "source": [
    "**Step 5 — Ensure common resolution (beam/pixel window)**\n",
    "\n",
    "- **Space:** harmonic space  \n",
    "- **Input:** $\\hat C_\\ell$, effective beam $B_\\ell$ (5′ Gaussian), pixel window $P_\\ell$  \n",
    "- **Operation:** deconvolve so spectra correspond to the same effective beam/pixelization: $C_\\ell^{\\text{sky}}=\\hat C_\\ell/(B_\\ell^{2}P_\\ell^{2})$. Maps were already homogenized to $5'$ in the pipeline (§3.3), so this step is the spectral counterpart of that homogenization.  \n",
    "- **Output:** $C_\\ell^{\\text{sky}}$ at common resolution\n"
   ]
  },
  {
   "cell_type": "code",
   "execution_count": 31,
   "id": "a2f1fd6a",
   "metadata": {},
   "outputs": [
    {
     "name": "stdout",
     "output_type": "stream",
     "text": [
      "Cl_sky: [8.42592673e-14 3.11845464e-26 1.02159908e-09 ... 1.24390393e-18\n",
      " 3.84849556e-19 1.25630484e-18]\n",
      "Step 5 done: deconvolved Cl_sky saved.\n"
     ]
    }
   ],
   "source": [
    "# --- STEP 5: deconvolve standard beam + pixel window from the ILC spectrum ---\n",
    "\n",
    "import numpy as np\n",
    "import healpy as hp\n",
    "\n",
    "# you already have: map_T (your final ILC HEALPix map) and lmax\n",
    "nside = hp.get_nside(map_T)\n",
    "lmax_use = min(lmax, 3*nside - 1)\n",
    "\n",
    "# raw full-sky spectrum from the ILC map\n",
    "Cl_hat = hp.anafast(map_T, lmax=lmax_use)\n",
    "\n",
    "# standard beam (5 arcmin) and pixel window of this map\n",
    "fwhm_rad = np.deg2rad(5.0/60.0)              # change if your ILC used a different target FWHM\n",
    "Bl       = hp.gauss_beam(fwhm_rad, lmax=lmax_use, pol=False)\n",
    "Pell     = hp.pixwin(nside, lmax=lmax_use, pol=False)\n",
    "\n",
    "# deconvolve to get the sky spectrum referenced to no beam/pixel smoothing\n",
    "den      = (Bl**2) * (Pell**2)\n",
    "Cl_sky   = np.zeros_like(Cl_hat)\n",
    "mask_ok  = den > 0\n",
    "Cl_sky[mask_ok] = Cl_hat[mask_ok] / den[mask_ok]\n",
    "Cl_sky[~mask_ok] = np.nan  # guard against divide-by-zero at extreme ell if any\n",
    "'''\n",
    "# optional: save\n",
    "np.save(f\"Cl_sky_{component}_cILC_{component_name}_R{realization}.npy\", Cl_sky)\n",
    "np.save(f\"Dl_sky_{component}_cILC_{component_name}_R{realization}.npy\", Dl)\n",
    "'''\n",
    "print ('Cl_sky:',Cl_sky)\n",
    "print(\"Step 5 done: deconvolved Cl_sky saved.\")\n"
   ]
  },
  {
   "cell_type": "markdown",
   "id": "cca299a6",
   "metadata": {},
   "source": [
    "**Step 6 — Convert to $D_\\ell$ and plot**\n",
    "\n",
    "- **Space:** harmonic space  \n",
    "- **Input:** $C_\\ell$ (per method: SILC $N=1..5$, SMICA)  \n",
    "- **Operation:** $D_\\ell \\equiv \\ell(\\ell+1)\\,C_\\ell/(2\\pi)$  \n",
    "- **Output (what you see in Fig. 13a):** curves of $D_\\ell$ for each method; overplotted with the **Planck 2015** best-fit ΛCDM theory curve used throughout the paper.\n"
   ]
  },
  {
   "cell_type": "code",
   "execution_count": null,
   "id": "67985a5d",
   "metadata": {},
   "outputs": [
    {
     "data": {
      "image/png": "[encoded data removed]",
      "text/plain": [
       "<Figure size 800x500 with 1 Axes>"
      ]
     },
     "metadata": {},
     "output_type": "display_data"
    }
   ],
   "source": [
    "import numpy as np\n",
    "import matplotlib.pyplot as plt\n",
    "import healpy as hp\n",
    "\n",
    "# Example: read in your final ILC map and compute Cℓ\n",
    "map_T = hp.read_map(\"CSNT_cILC_cmb_R0000.fits\", verbose=False)\n",
    "nside = hp.get_nside(map_T)\n",
    "lmax = 3 * nside - 1\n",
    "\n",
    "# Compute angular power spectrum\n",
    "Cl = hp.anafast(map_T, lmax=lmax)\n",
    "\n",
    "# Convert to Dℓ\n",
    "ell = np.arange(len(Cl))\n",
    "Dl = (ell * (ell + 1) * Cl / (2 * np.pi)) * 1e12 # in unit of \n",
    "\n",
    "# Plot\n",
    "plt.figure(figsize=(8,5))\n",
    "plt.plot(ell, Dl, label=\"cILC (R0000)\")\n",
    "\n",
    "# (Optional) add other methods if you have their Cl arrays\n",
    "# plt.plot(ell, Dl_SILC, label=\"SILC N=1\")\n",
    "# plt.plot(ell, Dl_SMICA, label=\"SMICA\")\n",
    "\n",
    "plt.xlabel(r\"$\\ell$\")\n",
    "plt.ylabel(r\"$D_\\ell = \\ell(\\ell+1)C_\\ell / 2\\pi$\")\n",
    "#plt.title(\"CMB Angular Power Spectrum\")\n",
    "plt.legend()\n",
    "plt.grid(alpha=0.3)\n",
    "plt.xlim(0,62)  # adjust as needed\n",
    "plt.show()\n"
   ]
  }
 ],
 "metadata": {
  "kernelspec": {
   "display_name": "clean_cmb",
   "language": "python",
   "name": "python3"
  },
  "language_info": {
   "codemirror_mode": {
    "name": "ipython",
    "version": 3
   },
   "file_extension": ".py",
   "mimetype": "text/x-python",
   "name": "python",
   "nbconvert_exporter": "python",
   "pygments_lexer": "ipython3",
   "version": "3.11.13"
  }
 },
 "nbformat": 4,
 "nbformat_minor": 5
}
