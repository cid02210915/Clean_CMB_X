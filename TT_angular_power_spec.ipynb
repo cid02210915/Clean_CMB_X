{
 "cells": [
  {
   "cell_type": "markdown",
   "id": "77cf0d9f",
   "metadata": {},
   "source": [
    "### Step 1 — Start from consistent-resolution CMB maps\n",
    "\n",
    "- **Space:** real/pixel space on the sphere (HEALPix maps \\(T(\\hat{n})\\))\n",
    "- **Input:** SILC temperature maps for \\(N = 1, 2, 3, 4, 5\\) (each already homogenized to an effective \\(5'\\) Gaussian beam during preprocessing), and the SMICA map.\n",
    "- **Output:** same maps, ready for masking (still real space, HEALPix)\n"
   ]
  },
  {
   "cell_type": "code",
   "execution_count": 29,
   "id": "7411659b",
   "metadata": {},
   "outputs": [],
   "source": [
    "import numpy as np\n",
    "import healpy as hp\n",
    "import s2fft\n",
    "\n",
    "def mw_alm_2_hp_alm(MW_alm, lmax):\n",
    "    '''MW_alm: 2D array of shape (Lmax, 2*Lmax-1) (MW sampling, McEwen & Wiaux)\n",
    "    '''\n",
    "    # Initialize the 1D hp_alm array with the appropriate size\n",
    "    hp_alm = np.zeros(hp.Alm.getsize(lmax), dtype=np.complex128)\n",
    "        \n",
    "    for l in range(lmax + 1):\n",
    "        for m in range(-l, l + 1):\n",
    "            index = hp.Alm.getidx(lmax, l, abs(m))\n",
    "            if m < 0:\n",
    "                hp_alm[index] = (-1)**m * np.conj(MW_alm[l, lmax + m])\n",
    "            else:\n",
    "                hp_alm[index] = MW_alm[l, lmax + m]\n",
    "\n",
    "    return hp_alm\n",
    "\n",
    "\n",
    "def hp_alm_2_mw_alm(hp_alm, L_max):\n",
    "    \"\"\"\n",
    "    Converts spherical harmonics (alm) to a matrix representation for use in MW sampling.\n",
    "\n",
    "    This function takes 1D Healpix spherical harmonics coefficients (alm) and converts them into a matrix form \n",
    "    that is in (MW sampling, McEwen & Wiaux) sampling. The matrix form is complex-valued \n",
    "    and indexed by multipole moment and azimuthal index.\n",
    "\n",
    "    Parameters:\n",
    "        hp_alm (numpy.ndarray): The input healpix spherical harmonics coefficients (alm).\n",
    "        L_max (int): The maximum multipole moment to be represented in the output matrix.\n",
    "    \n",
    "    Note: # L_max = 4 | l = 0,1,2,3 , true lmax is L_max-1 = 3 | m = -3...0...(L_max-1 = 3)| number of m = 2(L_max-1)+1 = 2L_max-1\n",
    "\n",
    "    Returns:\n",
    "        MW_alm (numpy.ndarray): 2D array of shape (Lmax, 2*Lmax-1) MW spherical harmonics coefficients \n",
    "    \"\"\"\n",
    "\n",
    "    MW_alm = np.zeros((L_max, 2 * L_max - 1), dtype=np.complex128)\n",
    "\n",
    "    for l in range(L_max):\n",
    "        for m in range(-l, l + 1):\n",
    "            index = hp.Alm.getidx(L_max - 1, l, abs(m))\n",
    "            if m < 0:\n",
    "                MW_alm[l, L_max + m - 1] = (-1) ** m * np.conj(hp_alm[index])\n",
    "            else:\n",
    "                MW_alm[l, L_max + m - 1] = hp_alm[index]\n",
    "\n",
    "    return MW_alm"
   ]
  },
  {
   "cell_type": "code",
   "execution_count": 32,
   "id": "e417f60b",
   "metadata": {},
   "outputs": [
    {
     "name": "stderr",
     "output_type": "stream",
     "text": [
      "setting the output map dtype to [dtype('float64')]\n"
     ]
    },
    {
     "name": "stdout",
     "output_type": "stream",
     "text": [
      "Saved HEALPix map to CSNT_cILC_cmb_R0000.fits\n"
     ]
    }
   ],
   "source": [
    "import healpy as hp\n",
    "\n",
    "# after ILC_wav_coeff_maps_MP finishes for one realization:\n",
    "\n",
    "component = 'CSNT'\n",
    "component_name = 'cmb'\n",
    "realization = \"0000\"  # string\n",
    "\n",
    "# path to synthesized MW map\n",
    "mw_path = f\"ILC/synthesized_ILC_MW_maps/{component}_ILC_MW_Map_cilc_{component_name}_R{realization}_MP.npy\"\n",
    "\n",
    "# load MW pixel map\n",
    "MW_pix = np.load(mw_path)\n",
    "\n",
    "# if s2fft expects shape (1, ...), take first slice\n",
    "if MW_pix.ndim == 3:\n",
    "    MW_pix = MW_pix[0]\n",
    "\n",
    "L = MW_pix.shape[0]\n",
    "lmax = L - 1\n",
    "\n",
    "# MW pixel → MW alm\n",
    "MW_alm = s2fft.forward(MW_pix, L=L)\n",
    "\n",
    "# MW alm → HP alm (your existing function)\n",
    "hp_alm = mw_alm_2_hp_alm(MW_alm, lmax)\n",
    "\n",
    "# choose nside for given lmax\n",
    "nside = 1 << int(np.ceil(np.log2((lmax + 1) / 3.0)))\n",
    "\n",
    "# HP alm → HP map\n",
    "hp_map = hp.alm2map(hp_alm, nside=nside, lmax=lmax, verbose=False)\n",
    "\n",
    "# save to FITS\n",
    "hp.write_map(f\"{component}_cILC_{component_name}_R{realization}.fits\", hp_map, overwrite=True)\n",
    "\n",
    "print(f\"Saved HEALPix map to {component}_cILC_{component_name}_R{realization}.fits\")\n"
   ]
  },
  {
   "cell_type": "markdown",
   "id": "bbd13160",
   "metadata": {},
   "source": [
    "### Step 2 — Apply the point-source mask\n",
    "\n",
    "- **Space:** real/pixel space (multiply map by mask)  \n",
    "- **Input:** map from Step 1 + point-source mask  \n",
    "- **Output:** masked map $M(\\hat{n})\\,T(\\hat{n})$ (used because Fig. 13(a) shows **point-source** masked spectra)\n"
   ]
  },
  {
   "cell_type": "code",
   "execution_count": 20,
   "id": "7785cf75",
   "metadata": {},
   "outputs": [
    {
     "name": "stdout",
     "output_type": "stream",
     "text": [
      "Downloaded LFI_Mask_PointSrc_2048.fits\n",
      "Downloaded HFI_Mask_PointSrc_2048.fits\n"
     ]
    }
   ],
   "source": [
    "import requests\n",
    "# URLs for Planck point-source masks\n",
    "urls = {\n",
    "    \"LFI\": \"http://pla.esac.esa.int/pla/aio/product-action?MAP.MAP_ID=LFI_Mask_PointSrc_2048_R2.00.fits\",\n",
    "    \"HFI\": \"http://pla.esac.esa.int/pla/aio/product-action?MAP.MAP_ID=HFI_Mask_PointSrc_2048_R2.00.fits\"\n",
    "}\n",
    "\n",
    "\n",
    "# Download masks if not already present\n",
    "for name, url in urls.items():\n",
    "    filename = f\"{name}_Mask_PointSrc_2048.fits\"\n",
    "    try:\n",
    "        with open(filename, \"wb\") as f:\n",
    "            f.write(requests.get(url).content)\n",
    "        print(f\"Downloaded {filename}\")\n",
    "    except Exception as e:\n",
    "        print(f\"Error downloading {name} mask: {e}\")"
   ]
  },
  {
   "cell_type": "code",
   "execution_count": 31,
   "id": "8064c33d",
   "metadata": {},
   "outputs": [
    {
     "name": "stdout",
     "output_type": "stream",
     "text": [
      "map_T: 12288 nside= 32\n",
      "mask_LFI: 50331648 nside= 2048\n",
      "mask_HFI: 50331648 nside= 2048\n"
     ]
    },
    {
     "ename": "ValueError",
     "evalue": "operands could not be broadcast together with shapes (50331648,) (12288,) ",
     "output_type": "error",
     "traceback": [
      "\u001b[31m---------------------------------------------------------------------------\u001b[39m",
      "\u001b[31mValueError\u001b[39m                                Traceback (most recent call last)",
      "\u001b[36mCell\u001b[39m\u001b[36m \u001b[39m\u001b[32mIn[31]\u001b[39m\u001b[32m, line 16\u001b[39m\n\u001b[32m     13\u001b[39m mask_combined = mask_LFI * mask_HFI\n\u001b[32m     15\u001b[39m \u001b[38;5;66;03m# Apply mask in pixel space\u001b[39;00m\n\u001b[32m---> \u001b[39m\u001b[32m16\u001b[39m masked_map = mask_combined * map_T\n\u001b[32m     18\u001b[39m \u001b[38;5;66;03m# Save the masked map\u001b[39;00m\n\u001b[32m     19\u001b[39m hp.write_map(\u001b[33m\"\u001b[39m\u001b[33mmasked_map.fits\u001b[39m\u001b[33m\"\u001b[39m, masked_map, overwrite=\u001b[38;5;28;01mTrue\u001b[39;00m)\n",
      "\u001b[31mValueError\u001b[39m: operands could not be broadcast together with shapes (50331648,) (12288,) "
     ]
    }
   ],
   "source": [
    "       \n",
    "# Load your estimated CMB map (HEALPix)\n",
    "map_T = hp.read_map(\"CSNT_cILC_cmb_R0000.fits\", verbose=False)\n",
    "\n",
    "# Load LFI and HFI masks\n",
    "mask_LFI = hp.read_map(\"LFI_Mask_PointSrc_2048.fits\")\n",
    "mask_HFI = hp.read_map(\"HFI_Mask_PointSrc_2048.fits\")\n",
    "\n",
    "print(\"map_T:\", map_T.size, \"nside=\", hp.get_nside(map_T))\n",
    "print(\"mask_LFI:\", mask_LFI.size, \"nside=\", hp.get_nside(mask_LFI))\n",
    "print(\"mask_HFI:\", mask_HFI.size, \"nside=\", hp.get_nside(mask_HFI))\n",
    "\n",
    "# Combine masks: intersection (product) keeps only pixels unmasked in both\n",
    "mask_combined = mask_LFI * mask_HFI\n",
    "\n",
    "# Apply mask in pixel space\n",
    "masked_map = mask_combined * map_T\n",
    "\n",
    "# Save the masked map\n",
    "hp.write_map(\"masked_map.fits\", masked_map, overwrite=True)\n",
    "\n",
    "\n",
    "# visualize_MW_Pix_map(masked_map, title=\"Masked CMB Map\", coord=[\"G\"], unit=\"K\", is_MW_alm=False)\n",
    "# Optional: visualise\n",
    "hp.mollview(masked_map, title=\"CMB Map with Planck Point-Source Mask\")"
   ]
  },
  {
   "cell_type": "markdown",
   "id": "62b33679",
   "metadata": {},
   "source": [
    "**Step 3 — Go to harmonic space (pseudo-spectrum)**\n",
    "\n",
    "- **Space:** harmonic space (spherical harmonics)  \n",
    "- **Input:** masked map $M(\\hat{n})\\,T(\\hat{n})$ \n",
    "- **Operation:** spherical-harmonic transform $\\Rightarrow$ coefficients $\\tilde{a}_{\\ell m}$; compute pseudo-spectrum $\\tilde{C}_{\\ell}$  \n",
    "- **Output:** $\\tilde{C}_{\\ell}$ (pseudo-$C_{\\ell}$)  \n"
   ]
  },
  {
   "cell_type": "code",
   "execution_count": null,
   "id": "15322049",
   "metadata": {},
   "outputs": [],
   "source": [
    "import numpy as np\n",
    "import healpy as hp\n",
    "\n",
    "def pseudo_cl_from_masked_map(T_map, mask, lmax=None, fsky_correct=True, return_alm=False):\n",
    "    \"\"\"\n",
    "    Step 3 — pseudo-spectrum from a masked map, following SILC (Rogers+16).\n",
    "    \n",
    "    Inputs\n",
    "    -------\n",
    "    T_map : 1D array (len = 12*Nside^2), HEALPix CMB temperature map [K or µK]\n",
    "    mask  : 1D array, same shape; 1 inside, 0 outside (can be float weights)\n",
    "    lmax  : int, maximum multipole (default = 3*Nside-1)\n",
    "    fsky_correct : bool, divide pseudo-Cl by f_sky (small-mask full-sky approximation)\n",
    "    return_alm   : bool, also return a_lm of the masked map\n",
    "\n",
    "    Returns\n",
    "    -------\n",
    "    ell        : array of multipoles (0..lmax)\n",
    "    Cl_tilde   : pseudo-spectrum of the masked map, \\tilde C_ell\n",
    "    Cl_fullest : Cl_tilde / f_sky  (if fsky_correct), else equals Cl_tilde\n",
    "    alm        : (optional) a_lm of the masked map\n",
    "    \"\"\"\n",
    "    nside = hp.get_nside(T_map)\n",
    "    if hp.get_nside(mask) != nside:\n",
    "        raise ValueError(\"T_map and mask must have same Nside\")\n",
    "    if lmax is None:\n",
    "        lmax = 3*nside - 1\n",
    "\n",
    "    # Masked map M*T\n",
    "    MT = (mask * T_map).astype(float)\n",
    "\n",
    "    # Either get alm then Cl, or directly Cl; both give the pseudo-spectrum\n",
    "    if return_alm:\n",
    "        alm = hp.map2alm(MT, lmax=lmax, iter=0)\n",
    "        Cl_tilde = hp.alm2cl(alm)\n",
    "    else:\n",
    "        alm = None\n",
    "        Cl_tilde = hp.anafast(MT, lmax=lmax)\n",
    "\n",
    "    # Small-mask full-sky approximation used in the paper: divide by f_sky\n",
    "    # For a binary mask, f_sky = mean(mask). (Good when the mask is small.)\n",
    "    if fsky_correct:\n",
    "        fsky = float(mask.mean())\n",
    "        Cl_fullest = Cl_tilde / fsky if fsky > 0 else Cl_tilde\n",
    "    else:\n",
    "        Cl_fullest = Cl_tilde\n",
    "\n",
    "    ell = np.arange(Cl_tilde.size)\n",
    "    return ell, Cl_tilde, Cl_fullest, alm\n"
   ]
  }
 ],
 "metadata": {
  "kernelspec": {
   "display_name": "clean_cmb",
   "language": "python",
   "name": "python3"
  },
  "language_info": {
   "codemirror_mode": {
    "name": "ipython",
    "version": 3
   },
   "file_extension": ".py",
   "mimetype": "text/x-python",
   "name": "python",
   "nbconvert_exporter": "python",
   "pygments_lexer": "ipython3",
   "version": "3.11.13"
  }
 },
 "nbformat": 4,
 "nbformat_minor": 5
}
